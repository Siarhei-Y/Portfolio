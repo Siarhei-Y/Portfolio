{
 "cells": [
  {
   "cell_type": "markdown",
   "id": "7af0d4b5-2659-49e6-be9f-86466dec8011",
   "metadata": {},
   "source": [
    "A/B testing dataset: https://www.kaggle.com/datasets/zhangluyuan/ab-testing?select=ab_data.csv\n",
    "\n",
    "The task is to determine whether the new page generates more conversions than the old page\n",
    "- H0: m0 = m1\n",
    "- H1: m0 < m1"
   ]
  },
  {
   "cell_type": "code",
   "execution_count": 26,
   "id": "ffe64338-c55d-43b5-80a2-81c65d7c819f",
   "metadata": {},
   "outputs": [],
   "source": [
    "import pandas as pd\n",
    "import numpy as np\n",
    "import matplotlib.pyplot as plt\n",
    "import seaborn as sns\n",
    "from scipy import stats\n",
    "import statsmodels.stats.api as sms"
   ]
  },
  {
   "cell_type": "markdown",
   "id": "c9c20a71-0776-4c2f-b5e2-66a788704e3f",
   "metadata": {},
   "source": [
    "### Data Prepation"
   ]
  },
  {
   "cell_type": "code",
   "execution_count": 27,
   "id": "e850fcc3-9faf-4007-9aaf-b6dad84a6eed",
   "metadata": {},
   "outputs": [
    {
     "data": {
      "text/html": [
       "<div>\n",
       "<style scoped>\n",
       "    .dataframe tbody tr th:only-of-type {\n",
       "        vertical-align: middle;\n",
       "    }\n",
       "\n",
       "    .dataframe tbody tr th {\n",
       "        vertical-align: top;\n",
       "    }\n",
       "\n",
       "    .dataframe thead th {\n",
       "        text-align: right;\n",
       "    }\n",
       "</style>\n",
       "<table border=\"1\" class=\"dataframe\">\n",
       "  <thead>\n",
       "    <tr style=\"text-align: right;\">\n",
       "      <th></th>\n",
       "      <th>user_id</th>\n",
       "      <th>timestamp</th>\n",
       "      <th>group</th>\n",
       "      <th>landing_page</th>\n",
       "      <th>converted</th>\n",
       "    </tr>\n",
       "  </thead>\n",
       "  <tbody>\n",
       "    <tr>\n",
       "      <th>0</th>\n",
       "      <td>851104</td>\n",
       "      <td>2017-01-21 22:11:48.556739</td>\n",
       "      <td>control</td>\n",
       "      <td>old_page</td>\n",
       "      <td>0</td>\n",
       "    </tr>\n",
       "    <tr>\n",
       "      <th>1</th>\n",
       "      <td>804228</td>\n",
       "      <td>2017-01-12 08:01:45.159739</td>\n",
       "      <td>control</td>\n",
       "      <td>old_page</td>\n",
       "      <td>0</td>\n",
       "    </tr>\n",
       "    <tr>\n",
       "      <th>2</th>\n",
       "      <td>661590</td>\n",
       "      <td>2017-01-11 16:55:06.154213</td>\n",
       "      <td>treatment</td>\n",
       "      <td>new_page</td>\n",
       "      <td>0</td>\n",
       "    </tr>\n",
       "    <tr>\n",
       "      <th>3</th>\n",
       "      <td>853541</td>\n",
       "      <td>2017-01-08 18:28:03.143765</td>\n",
       "      <td>treatment</td>\n",
       "      <td>new_page</td>\n",
       "      <td>0</td>\n",
       "    </tr>\n",
       "    <tr>\n",
       "      <th>4</th>\n",
       "      <td>864975</td>\n",
       "      <td>2017-01-21 01:52:26.210827</td>\n",
       "      <td>control</td>\n",
       "      <td>old_page</td>\n",
       "      <td>1</td>\n",
       "    </tr>\n",
       "    <tr>\n",
       "      <th>...</th>\n",
       "      <td>...</td>\n",
       "      <td>...</td>\n",
       "      <td>...</td>\n",
       "      <td>...</td>\n",
       "      <td>...</td>\n",
       "    </tr>\n",
       "    <tr>\n",
       "      <th>294473</th>\n",
       "      <td>751197</td>\n",
       "      <td>2017-01-03 22:28:38.630509</td>\n",
       "      <td>control</td>\n",
       "      <td>old_page</td>\n",
       "      <td>0</td>\n",
       "    </tr>\n",
       "    <tr>\n",
       "      <th>294474</th>\n",
       "      <td>945152</td>\n",
       "      <td>2017-01-12 00:51:57.078372</td>\n",
       "      <td>control</td>\n",
       "      <td>old_page</td>\n",
       "      <td>0</td>\n",
       "    </tr>\n",
       "    <tr>\n",
       "      <th>294475</th>\n",
       "      <td>734608</td>\n",
       "      <td>2017-01-22 11:45:03.439544</td>\n",
       "      <td>control</td>\n",
       "      <td>old_page</td>\n",
       "      <td>0</td>\n",
       "    </tr>\n",
       "    <tr>\n",
       "      <th>294476</th>\n",
       "      <td>697314</td>\n",
       "      <td>2017-01-15 01:20:28.957438</td>\n",
       "      <td>control</td>\n",
       "      <td>old_page</td>\n",
       "      <td>0</td>\n",
       "    </tr>\n",
       "    <tr>\n",
       "      <th>294477</th>\n",
       "      <td>715931</td>\n",
       "      <td>2017-01-16 12:40:24.467417</td>\n",
       "      <td>treatment</td>\n",
       "      <td>new_page</td>\n",
       "      <td>0</td>\n",
       "    </tr>\n",
       "  </tbody>\n",
       "</table>\n",
       "<p>294478 rows × 5 columns</p>\n",
       "</div>"
      ],
      "text/plain": [
       "        user_id                   timestamp      group landing_page  converted\n",
       "0        851104  2017-01-21 22:11:48.556739    control     old_page          0\n",
       "1        804228  2017-01-12 08:01:45.159739    control     old_page          0\n",
       "2        661590  2017-01-11 16:55:06.154213  treatment     new_page          0\n",
       "3        853541  2017-01-08 18:28:03.143765  treatment     new_page          0\n",
       "4        864975  2017-01-21 01:52:26.210827    control     old_page          1\n",
       "...         ...                         ...        ...          ...        ...\n",
       "294473   751197  2017-01-03 22:28:38.630509    control     old_page          0\n",
       "294474   945152  2017-01-12 00:51:57.078372    control     old_page          0\n",
       "294475   734608  2017-01-22 11:45:03.439544    control     old_page          0\n",
       "294476   697314  2017-01-15 01:20:28.957438    control     old_page          0\n",
       "294477   715931  2017-01-16 12:40:24.467417  treatment     new_page          0\n",
       "\n",
       "[294478 rows x 5 columns]"
      ]
     },
     "execution_count": 27,
     "metadata": {},
     "output_type": "execute_result"
    }
   ],
   "source": [
    "df = pd.read_csv('ab_data.csv')\n",
    "df"
   ]
  },
  {
   "cell_type": "code",
   "execution_count": 28,
   "id": "ca7fcb73-e57b-4ee7-8839-138f4d9241b7",
   "metadata": {},
   "outputs": [
    {
     "data": {
      "text/plain": [
       "290584"
      ]
     },
     "execution_count": 28,
     "metadata": {},
     "output_type": "execute_result"
    }
   ],
   "source": [
    "#drop duplicates\n",
    "df.drop_duplicates(subset=['user_id'], inplace=True)\n",
    "len(df)"
   ]
  },
  {
   "cell_type": "code",
   "execution_count": 29,
   "id": "dc168fea-d362-4f22-8908-1af323a98ab8",
   "metadata": {},
   "outputs": [
    {
     "data": {
      "text/html": [
       "<div>\n",
       "<style scoped>\n",
       "    .dataframe tbody tr th:only-of-type {\n",
       "        vertical-align: middle;\n",
       "    }\n",
       "\n",
       "    .dataframe tbody tr th {\n",
       "        vertical-align: top;\n",
       "    }\n",
       "\n",
       "    .dataframe thead th {\n",
       "        text-align: right;\n",
       "    }\n",
       "</style>\n",
       "<table border=\"1\" class=\"dataframe\">\n",
       "  <thead>\n",
       "    <tr style=\"text-align: right;\">\n",
       "      <th></th>\n",
       "      <th></th>\n",
       "      <th>group</th>\n",
       "    </tr>\n",
       "    <tr>\n",
       "      <th>landing_page</th>\n",
       "      <th>group</th>\n",
       "      <th></th>\n",
       "    </tr>\n",
       "  </thead>\n",
       "  <tbody>\n",
       "    <tr>\n",
       "      <th rowspan=\"2\" valign=\"top\">new_page</th>\n",
       "      <th>control</th>\n",
       "      <td>1006</td>\n",
       "    </tr>\n",
       "    <tr>\n",
       "      <th>treatment</th>\n",
       "      <td>144314</td>\n",
       "    </tr>\n",
       "    <tr>\n",
       "      <th rowspan=\"2\" valign=\"top\">old_page</th>\n",
       "      <th>control</th>\n",
       "      <td>144226</td>\n",
       "    </tr>\n",
       "    <tr>\n",
       "      <th>treatment</th>\n",
       "      <td>1038</td>\n",
       "    </tr>\n",
       "  </tbody>\n",
       "</table>\n",
       "</div>"
      ],
      "text/plain": [
       "                         group\n",
       "landing_page group            \n",
       "new_page     control      1006\n",
       "             treatment  144314\n",
       "old_page     control    144226\n",
       "             treatment    1038"
      ]
     },
     "execution_count": 29,
     "metadata": {},
     "output_type": "execute_result"
    }
   ],
   "source": [
    "df.groupby(['landing_page','group'])\\\n",
    "    .agg({'group':'count'})"
   ]
  },
  {
   "cell_type": "markdown",
   "id": "c64a2bfe-0f4b-4df6-b615-7e027108dd19",
   "metadata": {},
   "source": [
    "by the mistake control group has new_page views and treatment has old_page"
   ]
  },
  {
   "cell_type": "code",
   "execution_count": 38,
   "id": "6bd35385-2de6-4ba6-be13-ad598c331727",
   "metadata": {},
   "outputs": [],
   "source": [
    "mistake = df.loc[((df['group'] == 'control') & (df['landing_page'] == 'new_page'))|\n",
    "                    ((df['group'] == 'treatment') & (df['landing_page'] == 'old_page'))]\n",
    "\n",
    "df = df[~df['user_id'].isin(mistake['user_id'])]"
   ]
  },
  {
   "cell_type": "code",
   "execution_count": 40,
   "id": "c0659c3e-114e-482a-9796-99748ab45b89",
   "metadata": {},
   "outputs": [
    {
     "name": "stdout",
     "output_type": "stream",
     "text": [
      "0    254057\n",
      "1     34483\n",
      "Name: converted, dtype: int64\n"
     ]
    },
    {
     "data": {
      "image/png": "[encoded data removed]",
      "text/plain": [
       "<Figure size 640x480 with 1 Axes>"
      ]
     },
     "metadata": {},
     "output_type": "display_data"
    }
   ],
   "source": [
    "print(df.converted.value_counts())\n",
    "sns.barplot(data=df,x='group',y='converted');"
   ]
  },
  {
   "cell_type": "code",
   "execution_count": 49,
   "id": "ff0bc86f-3f10-4b4a-b484-36939aa11b62",
   "metadata": {},
   "outputs": [
    {
     "data": {
      "text/html": [
       "<div>\n",
       "<style scoped>\n",
       "    .dataframe tbody tr th:only-of-type {\n",
       "        vertical-align: middle;\n",
       "    }\n",
       "\n",
       "    .dataframe tbody tr th {\n",
       "        vertical-align: top;\n",
       "    }\n",
       "\n",
       "    .dataframe thead th {\n",
       "        text-align: right;\n",
       "    }\n",
       "</style>\n",
       "<table border=\"1\" class=\"dataframe\">\n",
       "  <thead>\n",
       "    <tr style=\"text-align: right;\">\n",
       "      <th></th>\n",
       "      <th>converted</th>\n",
       "      <th>group</th>\n",
       "      <th>conversion</th>\n",
       "    </tr>\n",
       "    <tr>\n",
       "      <th>group</th>\n",
       "      <th></th>\n",
       "      <th></th>\n",
       "      <th></th>\n",
       "    </tr>\n",
       "  </thead>\n",
       "  <tbody>\n",
       "    <tr>\n",
       "      <th>control</th>\n",
       "      <td>17349</td>\n",
       "      <td>144226</td>\n",
       "      <td>0.120290</td>\n",
       "    </tr>\n",
       "    <tr>\n",
       "      <th>treatment</th>\n",
       "      <td>17134</td>\n",
       "      <td>144314</td>\n",
       "      <td>0.118727</td>\n",
       "    </tr>\n",
       "  </tbody>\n",
       "</table>\n",
       "</div>"
      ],
      "text/plain": [
       "           converted   group  conversion\n",
       "group                                   \n",
       "control        17349  144226    0.120290\n",
       "treatment      17134  144314    0.118727"
      ]
     },
     "execution_count": 49,
     "metadata": {},
     "output_type": "execute_result"
    }
   ],
   "source": [
    "gr = df.groupby(['group'])\\\n",
    "    .agg({'converted':'sum',\n",
    "         'group':'count'})\n",
    "gr['conversion'] = gr['converted'] / gr['group']\n",
    "gr"
   ]
  },
  {
   "cell_type": "code",
   "execution_count": 42,
   "id": "37fe194c-a7ac-41bf-b34b-c779eb4fd25f",
   "metadata": {},
   "outputs": [],
   "source": [
    "control = df.loc[df['group']=='control']\n",
    "treatment = df.loc[df['group']=='treatment']"
   ]
  },
  {
   "cell_type": "markdown",
   "id": "73518c3d-b207-41eb-bc9e-353f1b492c21",
   "metadata": {},
   "source": [
    "### T-test"
   ]
  },
  {
   "cell_type": "code",
   "execution_count": 64,
   "id": "23ca3bfd-1670-4044-ad29-c12baa113dd5",
   "metadata": {},
   "outputs": [
    {
     "data": {
      "text/plain": [
       "Ttest_indResult(statistic=-1.2942360603357457, pvalue=0.9022075348163459)"
      ]
     },
     "execution_count": 64,
     "metadata": {},
     "output_type": "execute_result"
    }
   ],
   "source": [
    "stats.ttest_ind(a=treatment['converted'], b=control['converted'], random_state=42, alternative='greater')"
   ]
  },
  {
   "cell_type": "markdown",
   "id": "5c382d6e-13aa-40a3-a886-421f57f2502e",
   "metadata": {},
   "source": [
    "The probability of making an error of the first type (p-value) is  0.90. We can firmly reject the alternative hypothesis that the new page makes more conversions."
   ]
  },
  {
   "cell_type": "code",
   "execution_count": 76,
   "id": "e5c2c7b7-f066-4100-9473-65db25d4eecb",
   "metadata": {},
   "outputs": [
    {
     "name": "stdout",
     "output_type": "stream",
     "text": [
      "control confidence interval:(0.11861150950190608, 0.12196924570173265), mean:0.12029037760181936\n",
      "treatment confidence interval:(0.11705832358357807, 0.12039611604112918), mean:0.11872721981235362\n"
     ]
    }
   ],
   "source": [
    "def conf_int(x, name):\n",
    "    print(f'{name} confidence interval:{stats.t.interval(confidence=0.95, loc=np.mean(x), df=len(x)-1, scale=stats.sem(x))}, mean:{x.mean()}')\n",
    "    \n",
    "conf_int(x=control['converted'], name='control')\n",
    "conf_int(x=treatment['converted'], name='treatment')"
   ]
  },
  {
   "cell_type": "code",
   "execution_count": null,
   "id": "499004c4-770c-47ae-8a12-f5ea0d9a583f",
   "metadata": {},
   "outputs": [],
   "source": []
  },
  {
   "cell_type": "code",
   "execution_count": null,
   "id": "90a66586-655f-4a4c-90c6-c23a9ad69855",
   "metadata": {},
   "outputs": [],
   "source": []
  },
  {
   "cell_type": "code",
   "execution_count": null,
   "id": "042d95fc-1d5d-4698-a75d-db904fbef5c6",
   "metadata": {},
   "outputs": [],
   "source": []
  },
  {
   "cell_type": "code",
   "execution_count": null,
   "id": "ac5b2d13-875c-4ac2-a066-22bd4452ebd9",
   "metadata": {},
   "outputs": [],
   "source": []
  }
 ],
 "metadata": {
  "kernelspec": {
   "display_name": "Python 3 (ipykernel)",
   "language": "python",
   "name": "python3"
  },
  "language_info": {
   "codemirror_mode": {
    "name": "ipython",
    "version": 3
   },
   "file_extension": ".py",
   "mimetype": "text/x-python",
   "name": "python",
   "nbconvert_exporter": "python",
   "pygments_lexer": "ipython3",
   "version": "3.11.3"
  }
 },
 "nbformat": 4,
 "nbformat_minor": 5
}
